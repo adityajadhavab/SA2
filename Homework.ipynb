{
 "cells": [
  {
   "cell_type": "code",
   "execution_count": 1,
   "id": "ade17b33",
   "metadata": {},
   "outputs": [],
   "source": [
    "import pandas as pd\n",
    "import numpy as np\n",
    "\n",
    "import statsmodels.api as sm\n",
    "\n",
    "import matplotlib.pyplot as plt\n",
    "import seaborn as sns"
   ]
  },
  {
   "cell_type": "code",
   "execution_count": 2,
   "id": "ad5cc000",
   "metadata": {},
   "outputs": [],
   "source": [
    "data = pd.read_excel('Homework Data.xlsx', sheet_name='Data')"
   ]
  },
  {
   "cell_type": "code",
   "execution_count": 3,
   "id": "ac31e044",
   "metadata": {},
   "outputs": [],
   "source": [
    "selected_columns = ['wage','female','nonwhite','union','education','exper','age']"
   ]
  },
  {
   "cell_type": "code",
   "execution_count": 4,
   "id": "91921530",
   "metadata": {},
   "outputs": [],
   "source": [
    "sample_data = data[selected_columns].iloc[:500]"
   ]
  },
  {
   "cell_type": "code",
   "execution_count": 5,
   "id": "dcba7832",
   "metadata": {},
   "outputs": [
    {
     "name": "stdout",
     "output_type": "stream",
     "text": [
      "<class 'pandas.core.frame.DataFrame'>\n",
      "RangeIndex: 500 entries, 0 to 499\n",
      "Data columns (total 7 columns):\n",
      " #   Column     Non-Null Count  Dtype  \n",
      "---  ------     --------------  -----  \n",
      " 0   wage       500 non-null    float64\n",
      " 1   female     500 non-null    object \n",
      " 2   nonwhite   500 non-null    object \n",
      " 3   union      500 non-null    object \n",
      " 4   education  500 non-null    float64\n",
      " 5   exper      500 non-null    float64\n",
      " 6   age        500 non-null    float64\n",
      "dtypes: float64(4), object(3)\n",
      "memory usage: 27.5+ KB\n"
     ]
    }
   ],
   "source": [
    "sample_data.info()"
   ]
  },
  {
   "cell_type": "code",
   "execution_count": 6,
   "id": "814acdcd",
   "metadata": {},
   "outputs": [],
   "source": [
    "??sns.heatmap"
   ]
  },
  {
   "cell_type": "markdown",
   "id": "b093407b",
   "metadata": {},
   "source": [
    "# Q 1 "
   ]
  },
  {
   "cell_type": "code",
   "execution_count": 7,
   "id": "06e14e6c",
   "metadata": {},
   "outputs": [
    {
     "data": {
      "image/png": "[encoded data removed]",
      "text/plain": [
       "<Figure size 640x480 with 2 Axes>"
      ]
     },
     "metadata": {},
     "output_type": "display_data"
    }
   ],
   "source": [
    "correlations = data[['wage', 'education', 'exper']].corr()\n",
    "\n",
    "sns.heatmap(correlations, annot=True, cmap='YlGnBu', vmin=-1, vmax=1, square=True)\n",
    "plt.show()"
   ]
  },
  {
   "cell_type": "markdown",
   "id": "48227ce3",
   "metadata": {},
   "source": [
    "### data mapping"
   ]
  },
  {
   "cell_type": "code",
   "execution_count": 8,
   "id": "323395b9",
   "metadata": {},
   "outputs": [],
   "source": [
    "gender_mapping = {'F': 0, 'M': 1}\n",
    "sample_data['female'] = sample_data['female'].map(gender_mapping)"
   ]
  },
  {
   "cell_type": "code",
   "execution_count": 9,
   "id": "28cf2591",
   "metadata": {},
   "outputs": [
    {
     "data": {
      "text/plain": [
       "1    262\n",
       "0    238\n",
       "Name: female, dtype: int64"
      ]
     },
     "execution_count": 9,
     "metadata": {},
     "output_type": "execute_result"
    }
   ],
   "source": [
    "sample_data.female.value_counts()"
   ]
  },
  {
   "cell_type": "code",
   "execution_count": 10,
   "id": "08d3168d",
   "metadata": {},
   "outputs": [],
   "source": [
    "race_mapping = {'N': 0, 'W': 1}\n",
    "sample_data['nonwhite'] = sample_data['nonwhite'].map(race_mapping)"
   ]
  },
  {
   "cell_type": "code",
   "execution_count": 11,
   "id": "f35d4496",
   "metadata": {},
   "outputs": [
    {
     "data": {
      "text/plain": [
       "1    410\n",
       "0     90\n",
       "Name: nonwhite, dtype: int64"
      ]
     },
     "execution_count": 11,
     "metadata": {},
     "output_type": "execute_result"
    }
   ],
   "source": [
    "sample_data['nonwhite'].value_counts()"
   ]
  },
  {
   "cell_type": "code",
   "execution_count": 12,
   "id": "cfd1fb45",
   "metadata": {},
   "outputs": [],
   "source": [
    "union_mapping = {'N': 0, 'M': 1}\n",
    "sample_data['union'] = sample_data['union'].map(union_mapping)"
   ]
  },
  {
   "cell_type": "code",
   "execution_count": 13,
   "id": "20e04cbe",
   "metadata": {},
   "outputs": [
    {
     "data": {
      "text/plain": [
       "0    412\n",
       "1     88\n",
       "Name: union, dtype: int64"
      ]
     },
     "execution_count": 13,
     "metadata": {},
     "output_type": "execute_result"
    }
   ],
   "source": [
    "sample_data['union'].value_counts()"
   ]
  },
  {
   "cell_type": "markdown",
   "id": "c960e29f",
   "metadata": {},
   "source": [
    "# Q 2"
   ]
  },
  {
   "cell_type": "code",
   "execution_count": 14,
   "id": "3f0f0fba",
   "metadata": {},
   "outputs": [
    {
     "name": "stdout",
     "output_type": "stream",
     "text": [
      "                            OLS Regression Results                            \n",
      "==============================================================================\n",
      "Dep. Variable:                   wage   R-squared:                       0.349\n",
      "Model:                            OLS   Adj. R-squared:                  0.343\n",
      "Method:                 Least Squares   F-statistic:                     53.06\n",
      "Date:                Sun, 23 Apr 2023   Prob (F-statistic):           4.73e-44\n",
      "Time:                        13:57:05   Log-Likelihood:                -1667.0\n",
      "No. Observations:                 500   AIC:                             3346.\n",
      "Df Residuals:                     494   BIC:                             3371.\n",
      "Df Model:                           5                                         \n",
      "Covariance Type:            nonrobust                                         \n",
      "==============================================================================\n",
      "                 coef    std err          t      P>|t|      [0.025      0.975]\n",
      "------------------------------------------------------------------------------\n",
      "const        -14.1157      1.761     -8.017      0.000     -17.575     -10.656\n",
      "female         3.5174      0.621      5.660      0.000       2.296       4.738\n",
      "nonwhite       1.1068      0.807      1.371      0.171      -0.479       2.693\n",
      "union          0.3044      0.824      0.369      0.712      -1.315       1.924\n",
      "education      1.5614      0.113     13.808      0.000       1.339       1.784\n",
      "exper          0.1722      0.026      6.628      0.000       0.121       0.223\n",
      "==============================================================================\n",
      "Omnibus:                      249.997   Durbin-Watson:                   1.903\n",
      "Prob(Omnibus):                  0.000   Jarque-Bera (JB):             2384.694\n",
      "Skew:                           1.957   Prob(JB):                         0.00\n",
      "Kurtosis:                      12.957   Cond. No.                         153.\n",
      "==============================================================================\n",
      "\n",
      "Notes:\n",
      "[1] Standard Errors assume that the covariance matrix of the errors is correctly specified.\n"
     ]
    }
   ],
   "source": [
    "X = sample_data[['female', 'nonwhite', 'union', 'education','exper']]\n",
    "\n",
    "X = sm.add_constant(X)\n",
    "y = sample_data['wage']\n",
    "\n",
    "model1 = sm.OLS(y, X).fit()\n",
    "print(model1.summary())"
   ]
  },
  {
   "cell_type": "markdown",
   "id": "c5b09463",
   "metadata": {},
   "source": [
    "# Q 4"
   ]
  },
  {
   "cell_type": "code",
   "execution_count": 16,
   "id": "58d3d8d1",
   "metadata": {},
   "outputs": [
    {
     "name": "stdout",
     "output_type": "stream",
     "text": [
      "                            OLS Regression Results                            \n",
      "==============================================================================\n",
      "Dep. Variable:                   wage   R-squared:                       0.349\n",
      "Model:                            OLS   Adj. R-squared:                  0.343\n",
      "Method:                 Least Squares   F-statistic:                     53.06\n",
      "Date:                Sun, 23 Apr 2023   Prob (F-statistic):           4.73e-44\n",
      "Time:                        13:57:34   Log-Likelihood:                -1667.0\n",
      "No. Observations:                 500   AIC:                             3346.\n",
      "Df Residuals:                     494   BIC:                             3371.\n",
      "Df Model:                           5                                         \n",
      "Covariance Type:            nonrobust                                         \n",
      "==============================================================================\n",
      "                 coef    std err          t      P>|t|      [0.025      0.975]\n",
      "------------------------------------------------------------------------------\n",
      "const         -1.3525      0.152     -8.895      0.000      -1.651      -1.054\n",
      "female         3.5174      0.621      5.660      0.000       2.296       4.738\n",
      "nonwhite       1.1068      0.807      1.371      0.171      -0.479       2.693\n",
      "union          0.3044      0.824      0.369      0.712      -1.315       1.924\n",
      "education      3.6886      0.370      9.977      0.000       2.962       4.415\n",
      "exper          2.2994      0.278      8.259      0.000       1.752       2.846\n",
      "age           -2.1272      0.268     -7.933      0.000      -2.654      -1.600\n",
      "==============================================================================\n",
      "Omnibus:                      249.997   Durbin-Watson:                   1.903\n",
      "Prob(Omnibus):                  0.000   Jarque-Bera (JB):             2384.694\n",
      "Skew:                           1.957   Prob(JB):                         0.00\n",
      "Kurtosis:                      12.957   Cond. No.                     2.14e+16\n",
      "==============================================================================\n",
      "\n",
      "Notes:\n",
      "[1] Standard Errors assume that the covariance matrix of the errors is correctly specified.\n",
      "[2] The smallest eigenvalue is 2.58e-27. This might indicate that there are\n",
      "strong multicollinearity problems or that the design matrix is singular.\n"
     ]
    }
   ],
   "source": [
    "X_all = sample_data[['female','nonwhite','union','education','exper','age']]\n",
    "X_all = sm.add_constant(X_all)\n",
    "\n",
    "model2 = sm.OLS(y, X_all).fit()\n",
    "print(model2.summary())"
   ]
  },
  {
   "cell_type": "markdown",
   "id": "02e1a3ae",
   "metadata": {},
   "source": [
    "# Q 5"
   ]
  },
  {
   "cell_type": "code",
   "execution_count": 19,
   "id": "ea8646e9",
   "metadata": {},
   "outputs": [],
   "source": [
    "sample_data['edu_gender'] = sample_data['education'] * sample_data['female']\n",
    "sample_data['edu_race'] = sample_data['education'] * sample_data['nonwhite']\n",
    "sample_data['edu_union'] = sample_data['education'] * sample_data['union']\n",
    "sample_data['exper_gender'] = sample_data['exper'] * sample_data['female']\n",
    "sample_data['exper_race'] = sample_data['exper'] * sample_data['nonwhite']\n",
    "sample_data['exper_union'] = sample_data['exper'] * sample_data['union']"
   ]
  },
  {
   "cell_type": "code",
   "execution_count": 21,
   "id": "16e3b7fa",
   "metadata": {},
   "outputs": [
    {
     "name": "stdout",
     "output_type": "stream",
     "text": [
      "                            OLS Regression Results                            \n",
      "==============================================================================\n",
      "Dep. Variable:                   wage   R-squared:                       0.359\n",
      "Model:                            OLS   Adj. R-squared:                  0.344\n",
      "Method:                 Least Squares   F-statistic:                     24.80\n",
      "Date:                Sun, 23 Apr 2023   Prob (F-statistic):           1.01e-40\n",
      "Time:                        14:03:34   Log-Likelihood:                -1663.4\n",
      "No. Observations:                 500   AIC:                             3351.\n",
      "Df Residuals:                     488   BIC:                             3401.\n",
      "Df Model:                          11                                         \n",
      "Covariance Type:            nonrobust                                         \n",
      "================================================================================\n",
      "                   coef    std err          t      P>|t|      [0.025      0.975]\n",
      "--------------------------------------------------------------------------------\n",
      "const           -6.4643      4.548     -1.421      0.156     -15.401       2.472\n",
      "education        1.0494      0.323      3.250      0.001       0.415       1.684\n",
      "exper            0.1268      0.075      1.695      0.091      -0.020       0.274\n",
      "female          -4.8429      3.454     -1.402      0.162     -11.630       1.944\n",
      "nonwhite        -2.2323      4.294     -0.520      0.603     -10.670       6.205\n",
      "union           -0.1721      5.353     -0.032      0.974     -10.690      10.346\n",
      "edu_gender       0.5210      0.233      2.233      0.026       0.063       0.979\n",
      "edu_race         0.2227      0.305      0.730      0.465      -0.376       0.822\n",
      "edu_union        0.1117      0.356      0.313      0.754      -0.589       0.812\n",
      "exper_gender     0.0750      0.053      1.406      0.160      -0.030       0.180\n",
      "exper_race       0.0154      0.070      0.219      0.827      -0.123       0.154\n",
      "exper_union     -0.0405      0.067     -0.605      0.546      -0.172       0.091\n",
      "==============================================================================\n",
      "Omnibus:                      255.263   Durbin-Watson:                   1.912\n",
      "Prob(Omnibus):                  0.000   Jarque-Bera (JB):             2670.146\n",
      "Skew:                           1.976   Prob(JB):                         0.00\n",
      "Kurtosis:                      13.609   Cond. No.                         777.\n",
      "==============================================================================\n",
      "\n",
      "Notes:\n",
      "[1] Standard Errors assume that the covariance matrix of the errors is correctly specified.\n"
     ]
    }
   ],
   "source": [
    "X_interaction = sample_data[['education', 'exper', 'female', 'nonwhite', 'union', 'edu_gender', 'edu_race', 'edu_union', 'exper_gender', 'exper_race', 'exper_union']]\n",
    "X_interaction = sm.add_constant(X_interaction)\n",
    "y = sample_data['wage']\n",
    "\n",
    "interaction_model = sm.OLS(y, X_interaction).fit()\n",
    "print(interaction_model.summary())"
   ]
  },
  {
   "cell_type": "markdown",
   "id": "e64a3e75",
   "metadata": {},
   "source": [
    "# Q 6"
   ]
  },
  {
   "cell_type": "code",
   "execution_count": 23,
   "id": "48638fdd",
   "metadata": {},
   "outputs": [],
   "source": [
    "def forward_selection(X, y, threshold_in=0.05):\n",
    "    initial_features = X.columns.tolist()\n",
    "    best_features = []\n",
    "    while len(initial_features) > 0:\n",
    "        remaining_features = list(set(initial_features) - set(best_features))\n",
    "        new_pval = pd.Series(index=remaining_features)\n",
    "        for feature in remaining_features:\n",
    "            model = sm.OLS(y, sm.add_constant(X[best_features + [feature]])).fit()\n",
    "            new_pval[feature] = model.pvalues[feature]\n",
    "        min_pval = new_pval.min()\n",
    "        if min_pval < threshold_in:\n",
    "            best_features.append(new_pval.idxmin())\n",
    "        else:\n",
    "            break\n",
    "    return best_features"
   ]
  },
  {
   "cell_type": "code",
   "execution_count": 24,
   "id": "07545f69",
   "metadata": {},
   "outputs": [],
   "source": [
    "X_all = sample_data.drop('wage', axis=1)  # Drop the dependent variable 'wage'\n",
    "y = sample_data['wage']"
   ]
  },
  {
   "cell_type": "code",
   "execution_count": 27,
   "id": "32395890",
   "metadata": {},
   "outputs": [
    {
     "name": "stderr",
     "output_type": "stream",
     "text": [
      "/var/folders/h9/b9hqt5sd69gc_yd08sw3y6tr0000gn/T/ipykernel_5414/1422717566.py:6: FutureWarning: The default dtype for empty Series will be 'object' instead of 'float64' in a future version. Specify a dtype explicitly to silence this warning.\n",
      "  new_pval = pd.Series(index=remaining_features)\n",
      "/var/folders/h9/b9hqt5sd69gc_yd08sw3y6tr0000gn/T/ipykernel_5414/1422717566.py:6: FutureWarning: The default dtype for empty Series will be 'object' instead of 'float64' in a future version. Specify a dtype explicitly to silence this warning.\n",
      "  new_pval = pd.Series(index=remaining_features)\n",
      "/var/folders/h9/b9hqt5sd69gc_yd08sw3y6tr0000gn/T/ipykernel_5414/1422717566.py:6: FutureWarning: The default dtype for empty Series will be 'object' instead of 'float64' in a future version. Specify a dtype explicitly to silence this warning.\n",
      "  new_pval = pd.Series(index=remaining_features)\n",
      "/var/folders/h9/b9hqt5sd69gc_yd08sw3y6tr0000gn/T/ipykernel_5414/1422717566.py:6: FutureWarning: The default dtype for empty Series will be 'object' instead of 'float64' in a future version. Specify a dtype explicitly to silence this warning.\n",
      "  new_pval = pd.Series(index=remaining_features)\n",
      "/var/folders/h9/b9hqt5sd69gc_yd08sw3y6tr0000gn/T/ipykernel_5414/1422717566.py:6: FutureWarning: The default dtype for empty Series will be 'object' instead of 'float64' in a future version. Specify a dtype explicitly to silence this warning.\n",
      "  new_pval = pd.Series(index=remaining_features)\n",
      "/var/folders/h9/b9hqt5sd69gc_yd08sw3y6tr0000gn/T/ipykernel_5414/1422717566.py:6: FutureWarning: The default dtype for empty Series will be 'object' instead of 'float64' in a future version. Specify a dtype explicitly to silence this warning.\n",
      "  new_pval = pd.Series(index=remaining_features)\n"
     ]
    },
    {
     "name": "stdout",
     "output_type": "stream",
     "text": [
      "Selected features:  ['education', 'exper_gender', 'exper_race', 'edu_gender', 'age', 'exper']\n",
      "                            OLS Regression Results                            \n",
      "==============================================================================\n",
      "Dep. Variable:                   wage   R-squared:                       0.354\n",
      "Model:                            OLS   Adj. R-squared:                  0.348\n",
      "Method:                 Least Squares   F-statistic:                     54.18\n",
      "Date:                Sun, 23 Apr 2023   Prob (F-statistic):           7.96e-45\n",
      "Time:                        14:05:53   Log-Likelihood:                -1665.1\n",
      "No. Observations:                 500   AIC:                             3342.\n",
      "Df Residuals:                     494   BIC:                             3368.\n",
      "Df Model:                           5                                         \n",
      "Covariance Type:            nonrobust                                         \n",
      "================================================================================\n",
      "                   coef    std err          t      P>|t|      [0.025      0.975]\n",
      "--------------------------------------------------------------------------------\n",
      "const           -1.1031      0.147     -7.493      0.000      -1.392      -0.814\n",
      "education        3.1271      0.366      8.541      0.000       2.408       3.846\n",
      "exper_gender     0.0428      0.046      0.935      0.350      -0.047       0.133\n",
      "exper_race       0.0438      0.038      1.145      0.253      -0.031       0.119\n",
      "edu_gender       0.2146      0.079      2.713      0.007       0.059       0.370\n",
      "age             -1.6886      0.254     -6.649      0.000      -2.188      -1.190\n",
      "exper            1.8029      0.271      6.658      0.000       1.271       2.335\n",
      "==============================================================================\n",
      "Omnibus:                      251.893   Durbin-Watson:                   1.904\n",
      "Prob(Omnibus):                  0.000   Jarque-Bera (JB):             2520.074\n",
      "Skew:                           1.959   Prob(JB):                         0.00\n",
      "Kurtosis:                      13.277   Cond. No.                     2.10e+16\n",
      "==============================================================================\n",
      "\n",
      "Notes:\n",
      "[1] Standard Errors assume that the covariance matrix of the errors is correctly specified.\n",
      "[2] The smallest eigenvalue is 3.35e-27. This might indicate that there are\n",
      "strong multicollinearity problems or that the design matrix is singular.\n"
     ]
    },
    {
     "name": "stderr",
     "output_type": "stream",
     "text": [
      "/var/folders/h9/b9hqt5sd69gc_yd08sw3y6tr0000gn/T/ipykernel_5414/1422717566.py:6: FutureWarning: The default dtype for empty Series will be 'object' instead of 'float64' in a future version. Specify a dtype explicitly to silence this warning.\n",
      "  new_pval = pd.Series(index=remaining_features)\n"
     ]
    }
   ],
   "source": [
    "best_features = forward_selection(X_all, y)\n",
    "print(\"Selected features: \", best_features)\n",
    "\n",
    "X_selected = sm.add_constant(X_all[best_features])\n",
    "stepwise_model = sm.OLS(y, X_selected).fit()\n",
    "print(stepwise_model.summary())"
   ]
  },
  {
   "cell_type": "markdown",
   "id": "0462220b",
   "metadata": {},
   "source": [
    "# Q 8"
   ]
  },
  {
   "cell_type": "code",
   "execution_count": 34,
   "id": "a7b8b166",
   "metadata": {},
   "outputs": [],
   "source": [
    "??stepwise_model"
   ]
  },
  {
   "cell_type": "code",
   "execution_count": 30,
   "id": "2bfb188e",
   "metadata": {},
   "outputs": [],
   "source": [
    "residuals = stepwise_model.resid"
   ]
  },
  {
   "cell_type": "code",
   "execution_count": 32,
   "id": "c6765ad2",
   "metadata": {
    "scrolled": false
   },
   "outputs": [
    {
     "name": "stderr",
     "output_type": "stream",
     "text": [
      "/var/folders/h9/b9hqt5sd69gc_yd08sw3y6tr0000gn/T/ipykernel_5414/1006844431.py:3: UserWarning: Matplotlib is currently using module://matplotlib_inline.backend_inline, which is a non-GUI backend, so cannot show the figure.\n",
      "  qq_plot.show()\n"
     ]
    },
    {
     "data": {
      "image/png": "[encoded data removed]",
      "text/plain": [
       "<Figure size 640x480 with 1 Axes>"
      ]
     },
     "metadata": {},
     "output_type": "display_data"
    }
   ],
   "source": [
    "qq_plot = sm.qqplot(residuals, line='s')\n",
    "qq_plot.suptitle(\"Q-Q Plot of Residuals\")\n",
    "qq_plot.show()"
   ]
  },
  {
   "cell_type": "markdown",
   "id": "d7252f26",
   "metadata": {},
   "source": [
    "# Q 9"
   ]
  },
  {
   "cell_type": "code",
   "execution_count": 35,
   "id": "46c1c134",
   "metadata": {},
   "outputs": [
    {
     "name": "stdout",
     "output_type": "stream",
     "text": [
      "                            OLS Regression Results                            \n",
      "==============================================================================\n",
      "Dep. Variable:                   wage   R-squared:                       0.354\n",
      "Model:                            OLS   Adj. R-squared:                  0.348\n",
      "Method:                 Least Squares   F-statistic:                     54.18\n",
      "Date:                Sun, 23 Apr 2023   Prob (F-statistic):           7.96e-45\n",
      "Time:                        14:11:41   Log-Likelihood:                -1665.1\n",
      "No. Observations:                 500   AIC:                             3342.\n",
      "Df Residuals:                     494   BIC:                             3368.\n",
      "Df Model:                           5                                         \n",
      "Covariance Type:            nonrobust                                         \n",
      "================================================================================\n",
      "                   coef    std err          t      P>|t|      [0.025      0.975]\n",
      "--------------------------------------------------------------------------------\n",
      "const           -1.1031      0.147     -7.493      0.000      -1.392      -0.814\n",
      "education        3.1271      0.366      8.541      0.000       2.408       3.846\n",
      "exper_gender     0.0428      0.046      0.935      0.350      -0.047       0.133\n",
      "exper_race       0.0438      0.038      1.145      0.253      -0.031       0.119\n",
      "edu_gender       0.2146      0.079      2.713      0.007       0.059       0.370\n",
      "age             -1.6886      0.254     -6.649      0.000      -2.188      -1.190\n",
      "exper            1.8029      0.271      6.658      0.000       1.271       2.335\n",
      "==============================================================================\n",
      "Omnibus:                      251.893   Durbin-Watson:                   1.904\n",
      "Prob(Omnibus):                  0.000   Jarque-Bera (JB):             2520.074\n",
      "Skew:                           1.959   Prob(JB):                         0.00\n",
      "Kurtosis:                      13.277   Cond. No.                     2.10e+16\n",
      "==============================================================================\n",
      "\n",
      "Notes:\n",
      "[1] Standard Errors assume that the covariance matrix of the errors is correctly specified.\n",
      "[2] The smallest eigenvalue is 3.35e-27. This might indicate that there are\n",
      "strong multicollinearity problems or that the design matrix is singular.\n"
     ]
    }
   ],
   "source": [
    "print(stepwise_model.summary())"
   ]
  },
  {
   "cell_type": "markdown",
   "id": "19230b61",
   "metadata": {},
   "source": [
    "Coefficient: If the coefficient of the 'gender' variable is positive, it indicates that males (assuming 'M' is coded as 1 and 'F' as 0) tend to have higher wages than females, on average. If the coefficient is negative, it suggests that females tend to have higher wages than males, on average.\n",
    "\n",
    "\n",
    "P-value: The p-value of the 'gender' variable helps you determine if the relationship between gender and wage is statistically significant. If the p-value is below a chosen significance level (e.g., 0.05), it indicates that the relationship between gender and wage is statistically significant, suggesting the presence of a gender bias in the wage rate."
   ]
  },
  {
   "cell_type": "markdown",
   "id": "40528b1f",
   "metadata": {},
   "source": [
    "# Q 10"
   ]
  },
  {
   "cell_type": "markdown",
   "id": "ef59d793",
   "metadata": {},
   "source": [
    "Coefficient: If the coefficient of the 'edu_union' variable is positive, it suggests that the advantage of union membership is greater for individuals with higher education levels. In other words, the positive effect of union membership on wages is stronger for those with higher education. If the coefficient is negative, it implies that the advantage of union membership is smaller for individuals with higher education levels.\n",
    "\n",
    "\n",
    "P-value: The p-value of the 'edu_union' variable helps you determine if the relationship between the interaction term and the wage is statistically significant. If the p-value is below a chosen significance level (e.g., 0.05), it indicates that the relationship between the interaction term (education and union) and the wage is statistically significant, suggesting that the advantage of union membership varies based on education levels."
   ]
  },
  {
   "cell_type": "code",
   "execution_count": 36,
   "id": "b3f7b903",
   "metadata": {},
   "outputs": [
    {
     "name": "stdout",
     "output_type": "stream",
     "text": [
      "                            OLS Regression Results                            \n",
      "==============================================================================\n",
      "Dep. Variable:                   wage   R-squared:                       0.359\n",
      "Model:                            OLS   Adj. R-squared:                  0.344\n",
      "Method:                 Least Squares   F-statistic:                     24.80\n",
      "Date:                Sun, 23 Apr 2023   Prob (F-statistic):           1.01e-40\n",
      "Time:                        14:15:21   Log-Likelihood:                -1663.4\n",
      "No. Observations:                 500   AIC:                             3351.\n",
      "Df Residuals:                     488   BIC:                             3401.\n",
      "Df Model:                          11                                         \n",
      "Covariance Type:            nonrobust                                         \n",
      "================================================================================\n",
      "                   coef    std err          t      P>|t|      [0.025      0.975]\n",
      "--------------------------------------------------------------------------------\n",
      "const           -6.4643      4.548     -1.421      0.156     -15.401       2.472\n",
      "education        1.0494      0.323      3.250      0.001       0.415       1.684\n",
      "exper            0.1268      0.075      1.695      0.091      -0.020       0.274\n",
      "female          -4.8429      3.454     -1.402      0.162     -11.630       1.944\n",
      "nonwhite        -2.2323      4.294     -0.520      0.603     -10.670       6.205\n",
      "union           -0.1721      5.353     -0.032      0.974     -10.690      10.346\n",
      "edu_gender       0.5210      0.233      2.233      0.026       0.063       0.979\n",
      "edu_race         0.2227      0.305      0.730      0.465      -0.376       0.822\n",
      "edu_union        0.1117      0.356      0.313      0.754      -0.589       0.812\n",
      "exper_gender     0.0750      0.053      1.406      0.160      -0.030       0.180\n",
      "exper_race       0.0154      0.070      0.219      0.827      -0.123       0.154\n",
      "exper_union     -0.0405      0.067     -0.605      0.546      -0.172       0.091\n",
      "==============================================================================\n",
      "Omnibus:                      255.263   Durbin-Watson:                   1.912\n",
      "Prob(Omnibus):                  0.000   Jarque-Bera (JB):             2670.146\n",
      "Skew:                           1.976   Prob(JB):                         0.00\n",
      "Kurtosis:                      13.609   Cond. No.                         777.\n",
      "==============================================================================\n",
      "\n",
      "Notes:\n",
      "[1] Standard Errors assume that the covariance matrix of the errors is correctly specified.\n"
     ]
    }
   ],
   "source": [
    "print(interaction_model.summary())"
   ]
  },
  {
   "cell_type": "code",
   "execution_count": null,
   "id": "29ea4f3e",
   "metadata": {},
   "outputs": [],
   "source": []
  }
 ],
 "metadata": {
  "kernelspec": {
   "display_name": "Python 3 (ipykernel)",
   "language": "python",
   "name": "python3"
  },
  "language_info": {
   "codemirror_mode": {
    "name": "ipython",
    "version": 3
   },
   "file_extension": ".py",
   "mimetype": "text/x-python",
   "name": "python",
   "nbconvert_exporter": "python",
   "pygments_lexer": "ipython3",
   "version": "3.9.13"
  }
 },
 "nbformat": 4,
 "nbformat_minor": 5
}
